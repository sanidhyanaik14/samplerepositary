{
  "cells": [
    {
      "cell_type": "markdown",
      "metadata": {
        "id": "Tce3stUlHN0L"
      },
      "source": [
        "##### Copyright 2023 Google LLC"
      ]
    },
    {
      "cell_type": "code",
      "execution_count": 2,
      "metadata": {
        "id": "tuOe1ymfHZPu"
      },
      "outputs": [],
      "source": [
        "# @title Licensed under the Apache License, Version 2.0 (the \"License\");\n",
        "# you may not use this file except in compliance with the License.\n",
        "# You may obtain a copy of the License at\n",
        "#\n",
        "# https://www.apache.org/licenses/LICENSE-2.0\n",
        "#\n",
        "# Unless required by applicable law or agreed to in writing, software\n",
        "# distributed under the License is distributed on an \"AS IS\" BASIS,\n",
        "# WITHOUT WARRANTIES OR CONDITIONS OF ANY KIND, either express or implied.\n",
        "# See the License for the specific language governing permissions and\n",
        "# limitations under the License."
      ]
    },
    {
      "cell_type": "markdown",
      "metadata": {
        "id": "FKwyTRdwB8aW"
      },
      "source": [
        "## Setup"
      ]
    },
    {
      "cell_type": "markdown",
      "metadata": {
        "id": "rlE8UqxrDIez"
      },
      "source": [
        "### Install & import"
      ]
    },
    {
      "cell_type": "code",
      "execution_count": 9,
      "metadata": {
        "id": "RXInneX6xx7c"
      },
      "outputs": [],
      "source": [
        "!pip install -U -q google-generativeai"
      ]
    },
    {
      "cell_type": "code",
      "execution_count": 10,
      "metadata": {
        "id": "kWIuwKG2_oWE"
      },
      "outputs": [],
      "source": [
        "# Install the client library and import necessary modules.\n",
        "import google.generativeai as genai\n",
        "\n",
        "import base64\n",
        "import copy\n",
        "import hashlib\n",
        "import io\n",
        "import json\n",
        "import mimetypes\n",
        "import pathlib\n",
        "import pprint\n",
        "import requests\n",
        "\n",
        "\n",
        "import PIL.Image\n",
        "import IPython.display\n",
        "from IPython.display import Markdown"
      ]
    },
    {
      "cell_type": "markdown",
      "metadata": {
        "id": "Fet3lFjdKHEM"
      },
      "source": [
        "## Set the API key"
      ]
    },
    {
      "cell_type": "markdown",
      "metadata": {
        "id": "ZoRWILAtCzBE"
      },
      "source": [
        "Add your API_KEY to the secrets manager in the left panel \"🔑\"."
      ]
    },
    {
      "cell_type": "code",
      "execution_count": 15,
      "metadata": {
        "id": "LaLCwNlkCyQd",
        "colab": {
          "base_uri": "https://localhost:8080/",
          "height": 297
        },
        "outputId": "3e7d64ab-6b38-47ab-b8ad-c1dd34afd366"
      },
      "outputs": [
        {
          "output_type": "error",
          "ename": "SecretNotFoundError",
          "evalue": "Secret GOOGLE_API_KEY does not exist.",
          "traceback": [
            "\u001b[0;31m---------------------------------------------------------------------------\u001b[0m",
            "\u001b[0;31mSecretNotFoundError\u001b[0m                       Traceback (most recent call last)",
            "\u001b[0;32m<ipython-input-15-321f70020e6b>\u001b[0m in \u001b[0;36m<cell line: 3>\u001b[0;34m()\u001b[0m\n\u001b[1;32m      1\u001b[0m \u001b[0;32mfrom\u001b[0m \u001b[0mgoogle\u001b[0m\u001b[0;34m.\u001b[0m\u001b[0mcolab\u001b[0m \u001b[0;32mimport\u001b[0m \u001b[0muserdata\u001b[0m\u001b[0;34m\u001b[0m\u001b[0;34m\u001b[0m\u001b[0m\n\u001b[1;32m      2\u001b[0m \u001b[0;34m\u001b[0m\u001b[0m\n\u001b[0;32m----> 3\u001b[0;31m \u001b[0mGOOGLE_API_KEY\u001b[0m \u001b[0;34m=\u001b[0m \u001b[0muserdata\u001b[0m\u001b[0;34m.\u001b[0m\u001b[0mget\u001b[0m\u001b[0;34m(\u001b[0m\u001b[0;34m\"GOOGLE_API_KEY\"\u001b[0m\u001b[0;34m)\u001b[0m\u001b[0;34m\u001b[0m\u001b[0;34m\u001b[0m\u001b[0m\n\u001b[0m",
            "\u001b[0;32m/usr/local/lib/python3.10/dist-packages/google/colab/userdata.py\u001b[0m in \u001b[0;36mget\u001b[0;34m(key)\u001b[0m\n\u001b[1;32m     66\u001b[0m     \u001b[0;32mraise\u001b[0m \u001b[0mTimeoutException\u001b[0m\u001b[0;34m(\u001b[0m\u001b[0mkey\u001b[0m\u001b[0;34m)\u001b[0m\u001b[0;34m\u001b[0m\u001b[0;34m\u001b[0m\u001b[0m\n\u001b[1;32m     67\u001b[0m   \u001b[0;32mif\u001b[0m \u001b[0;32mnot\u001b[0m \u001b[0mresp\u001b[0m\u001b[0;34m.\u001b[0m\u001b[0mget\u001b[0m\u001b[0;34m(\u001b[0m\u001b[0;34m'exists'\u001b[0m\u001b[0;34m,\u001b[0m \u001b[0;32mFalse\u001b[0m\u001b[0;34m)\u001b[0m\u001b[0;34m:\u001b[0m\u001b[0;34m\u001b[0m\u001b[0;34m\u001b[0m\u001b[0m\n\u001b[0;32m---> 68\u001b[0;31m     \u001b[0;32mraise\u001b[0m \u001b[0mSecretNotFoundError\u001b[0m\u001b[0;34m(\u001b[0m\u001b[0mkey\u001b[0m\u001b[0;34m)\u001b[0m\u001b[0;34m\u001b[0m\u001b[0;34m\u001b[0m\u001b[0m\n\u001b[0m\u001b[1;32m     69\u001b[0m   \u001b[0;32mif\u001b[0m \u001b[0;32mnot\u001b[0m \u001b[0mresp\u001b[0m\u001b[0;34m.\u001b[0m\u001b[0mget\u001b[0m\u001b[0;34m(\u001b[0m\u001b[0;34m'access'\u001b[0m\u001b[0;34m,\u001b[0m \u001b[0;32mFalse\u001b[0m\u001b[0;34m)\u001b[0m\u001b[0;34m:\u001b[0m\u001b[0;34m\u001b[0m\u001b[0;34m\u001b[0m\u001b[0m\n\u001b[1;32m     70\u001b[0m     \u001b[0;32mraise\u001b[0m \u001b[0mNotebookAccessError\u001b[0m\u001b[0;34m(\u001b[0m\u001b[0mkey\u001b[0m\u001b[0;34m)\u001b[0m\u001b[0;34m\u001b[0m\u001b[0;34m\u001b[0m\u001b[0m\n",
            "\u001b[0;31mSecretNotFoundError\u001b[0m: Secret GOOGLE_API_KEY does not exist."
          ]
        }
      ],
      "source": [
        "from google.colab import userdata\n",
        "\n",
        "GOOGLE_API_KEY = userdata.get(\"GOOGLE_API_KEY\")"
      ]
    },
    {
      "cell_type": "code",
      "execution_count": null,
      "metadata": {
        "id": "_SvYoR3WCeKr"
      },
      "outputs": [],
      "source": [
        "# Configure the client library by providing your API key.\n",
        "genai.configure(api_key=GOOGLE_API_KEY)"
      ]
    },
    {
      "cell_type": "markdown",
      "metadata": {
        "id": "weo-o73WDpdm"
      },
      "source": [
        "## Parse the arguments"
      ]
    },
    {
      "cell_type": "code",
      "execution_count": null,
      "metadata": {
        "id": "uIog-0SyDuIF"
      },
      "outputs": [],
      "source": [
        "model = 'gemini-1.5-flash' # @param {isTemplate: true}\n",
        "contents_b64 = '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' # @param {isTemplate: true}\n",
        "generation_config_b64 = 'eyJ0ZW1wZXJhdHVyZSI6MSwidG9wX3AiOjAuOTUsInRvcF9rIjo2NCwibWF4X291dHB1dF90b2tlbnMiOjgxOTJ9' # @param {isTemplate: true}\n",
        "safety_settings_b64 = \"e30=\"  # @param {isTemplate: true}\n",
        "\n",
        "gais_contents = json.loads(base64.b64decode(contents_b64))\n",
        "\n",
        "generation_config = json.loads(base64.b64decode(generation_config_b64))\n",
        "safety_settings = json.loads(base64.b64decode(safety_settings_b64))\n",
        "\n",
        "stream = False"
      ]
    },
    {
      "cell_type": "code",
      "execution_count": null,
      "metadata": {
        "id": "RkbnEEIFEHFi"
      },
      "outputs": [],
      "source": [
        "gais_contents"
      ]
    },
    {
      "cell_type": "code",
      "execution_count": null,
      "metadata": {
        "id": "ca3e641ee9d3"
      },
      "outputs": [],
      "source": [
        "generation_config"
      ]
    },
    {
      "cell_type": "code",
      "execution_count": null,
      "metadata": {
        "id": "11ce12f5bbac"
      },
      "outputs": [],
      "source": [
        "safety_settings"
      ]
    },
    {
      "cell_type": "markdown",
      "metadata": {
        "id": "F91AeeGO1ncU"
      },
      "source": [
        "## [optional] Show the conversation\n",
        "\n",
        "This section displays the conversation received from Google AI Studio."
      ]
    },
    {
      "cell_type": "code",
      "execution_count": null,
      "metadata": {
        "id": "yoL3p3KPylFW"
      },
      "outputs": [],
      "source": [
        "# @title `show_file` function\n",
        "drive = None\n",
        "def show_file(file_data):\n",
        "    mime_type = file_data[\"mime_type\"]\n",
        "\n",
        "    if drive_id := file_data.get(\"drive_id\", None):\n",
        "        if drive is None:\n",
        "          from google.colab import drive\n",
        "          drive.mount(\"/gdrive\")\n",
        "        path = next(\n",
        "            pathlib.Path(f\"/gdrive/.shortcut-targets-by-id/{drive_id}\").glob(\"*\")\n",
        "        )\n",
        "        name = path\n",
        "        # data = path.read_bytes()\n",
        "        kwargs = {\"filename\": path}\n",
        "    elif url := file_data.get(\"url\", None):\n",
        "        name = url\n",
        "        kwargs = {\"url\": url}\n",
        "        # response = requests.get(url)\n",
        "        # data = response.content\n",
        "    elif data := file_data.get(\"inline_data\", None):\n",
        "        name = None\n",
        "        kwargs = {\"data\": data}\n",
        "    elif name := file_data.get(\"filename\", None):\n",
        "        if not pathlib.Path(name).exists():\n",
        "            raise IOError(\n",
        "                f\"local file: `{name}` does not exist. You can upload files to \"\n",
        "                'Colab using the file manager (\"📁 Files\"in the left toolbar)'\n",
        "            )\n",
        "    else:\n",
        "        raise ValueError(\"Either `drive_id`, `url` or `inline_data` must be provided.\")\n",
        "\n",
        "        print(f\"File:\\n    name: {name}\\n    mime_type: {mime_type}\\n\")\n",
        "        return\n",
        "\n",
        "    format = mimetypes.guess_extension(mime_type).strip(\".\")\n",
        "    if mime_type.startswith(\"image/\"):\n",
        "        image = IPython.display.Image(**kwargs, width=256)\n",
        "        IPython.display.display(image)\n",
        "        print()\n",
        "        return\n",
        "\n",
        "    if mime_type.startswith(\"audio/\"):\n",
        "        if len(data) < 2**12:\n",
        "            audio = IPython.display.Audio(**kwargs)\n",
        "            IPython.display.display(audio)\n",
        "            print()\n",
        "            return\n",
        "\n",
        "    if mime_type.startswith(\"video/\"):\n",
        "        if len(data) < 2**12:\n",
        "            audio = IPython.display.Video(**kwargs, mimetype=mime_type)\n",
        "            IPython.display.display(audio)\n",
        "            print()\n",
        "            return\n",
        "\n",
        "    print(f\"File:\\n    name: {name}\\n    mime_type: {mime_type}\\n\")"
      ]
    },
    {
      "cell_type": "code",
      "execution_count": null,
      "metadata": {
        "id": "o9D5UdhL8MTk"
      },
      "outputs": [],
      "source": [
        "for content in gais_contents:\n",
        "    if role := content.get(\"role\", None):\n",
        "        print(\"Role:\", role, \"\\n\")\n",
        "\n",
        "    for n, part in enumerate(content[\"parts\"]):\n",
        "        if text := part.get(\"text\", None):\n",
        "            print(text, \"\\n\")\n",
        "\n",
        "        elif file_data := part.get(\"file_data\", None):\n",
        "            show_file(file_data)\n",
        "\n",
        "    print(\"-\" * 80, \"\\n\")"
      ]
    },
    {
      "cell_type": "markdown",
      "metadata": {
        "id": "0F6SKiuo88LQ"
      },
      "source": [
        "## Convert & upload files\n",
        "\n",
        "For each file, Google AI Studio either sent:\n",
        "- a Google Drive IDs\n",
        "- a URL, or\n",
        "- the raw bytes (`inline_data`).\n",
        "\n",
        "The API itself onlty understands two ways of sending files:\n",
        "\n",
        "- `inline_data` - where the bytes are placed inline in the request.\n",
        "- `file_data` - where the file is uploaded to the Files API, and you pass a reference to that file.\n",
        "\n",
        "This section goes through the `contents` from Google AI Studio, and uploads the file data, to the Files API, so Gemini can access it:"
      ]
    },
    {
      "cell_type": "code",
      "execution_count": null,
      "metadata": {
        "id": "_wJAs_ZfuwCq"
      },
      "outputs": [],
      "source": [
        "# @title `upload_file` function\n",
        "\n",
        "tempfiles = pathlib.Path(f\"tempfiles\")\n",
        "tempfiles.mkdir(parents=True, exist_ok=True)\n",
        "\n",
        "drive = None\n",
        "def upload_file_data(file_data):\n",
        "    mime_type = file_data[\"mime_type\"]\n",
        "    if drive_id := file_data.pop(\"drive_id\", None):\n",
        "        if drive is None:\n",
        "          from google.colab import drive\n",
        "          drive.mount(\"/gdrive\")\n",
        "\n",
        "        path = next(\n",
        "            pathlib.Path(f\"/gdrive/.shortcut-targets-by-id/{drive_id}\").glob(\"*\")\n",
        "        )\n",
        "        print(\"Uploading:\", str(path))\n",
        "        file_info = genai.upload_file(path=path, mime_type=mime_type)\n",
        "        file_data[\"file_uri\"] = file_info.uri\n",
        "        return\n",
        "\n",
        "    if url := file_data.pop(\"url\", None):\n",
        "        response = requests.get(url)\n",
        "        data = response.content\n",
        "        name = url.split(\"/\")[-1]\n",
        "        hash = hashlib.sha256(data).hexdigest()\n",
        "        path = tempfiles / hash\n",
        "        path.write_bytes(data)\n",
        "        print(\"Uploading:\", url)\n",
        "        file_info = genai.upload_file(path, display_name=name, mime_type=mime_type)\n",
        "        file_data[\"file_uri\"] = file_info.uri\n",
        "        return\n",
        "\n",
        "    if name := file_data.get(\"filename\", None):\n",
        "        if not pathlib.Path(name).exists():\n",
        "            raise IOError(\n",
        "                f\"local file: `{name}` does not exist. You can upload files \"\n",
        "                'to Colab using the file manager (\"📁 Files\"in the left '\n",
        "                \"toolbar)\"\n",
        "            )\n",
        "        file_info = genai.upload_file(path, display_name=name, mime_type=mime_type)\n",
        "        file_data[\"file_uri\"] = file_info.uri\n",
        "        return\n",
        "\n",
        "    if \"inline_data\" in file_data:\n",
        "        return\n",
        "\n",
        "    raise ValueError(\"Either `drive_id`, `url` or `inline_data` must be provided.\")"
      ]
    },
    {
      "cell_type": "code",
      "execution_count": null,
      "metadata": {
        "id": "8TehY-utE3OR"
      },
      "outputs": [],
      "source": [
        "contents = copy.deepcopy(gais_contents)\n",
        "\n",
        "for content in contents:\n",
        "    for n, part in enumerate(content[\"parts\"]):\n",
        "        if file_data := part.get(\"file_data\", None):\n",
        "            upload_file_data(file_data)"
      ]
    },
    {
      "cell_type": "markdown",
      "metadata": {
        "id": "EUFIM-r39cuc"
      },
      "source": [
        "Here is the coverted `Content`s:"
      ]
    },
    {
      "cell_type": "code",
      "execution_count": null,
      "metadata": {
        "id": "oJ-sPFRSxdQg"
      },
      "outputs": [],
      "source": [
        "contents"
      ]
    },
    {
      "cell_type": "markdown",
      "metadata": {
        "id": "E7zAD69vE92b"
      },
      "source": [
        "## Call `generate_content`"
      ]
    },
    {
      "cell_type": "code",
      "execution_count": null,
      "metadata": {
        "id": "LB2LxPmAB95V"
      },
      "outputs": [],
      "source": [
        "# Call the model and print the response.\n",
        "gemini = genai.GenerativeModel(model_name=model)\n",
        "\n",
        "response = gemini.generate_content(\n",
        "    contents,\n",
        "    generation_config=generation_config,\n",
        "    safety_settings=safety_settings,\n",
        "    stream=False,\n",
        ")"
      ]
    },
    {
      "cell_type": "code",
      "execution_count": null,
      "metadata": {
        "id": "Lm3RXwYuGtZK"
      },
      "outputs": [],
      "source": [
        "if generation_config.get(\"candidate_count\", 1) == 1:\n",
        "    display(Markdown(response.text))"
      ]
    },
    {
      "cell_type": "code",
      "execution_count": null,
      "metadata": {
        "id": "HjT4jtJc2aAk"
      },
      "outputs": [],
      "source": [
        "response.candidates"
      ]
    },
    {
      "cell_type": "markdown",
      "metadata": {
        "id": "eQ1YBkS4MV8L"
      },
      "source": [
        "## Or Create a chat"
      ]
    },
    {
      "cell_type": "code",
      "execution_count": null,
      "metadata": {
        "id": "aOd-4IHUqx4R"
      },
      "outputs": [],
      "source": [
        "gemini = genai.GenerativeModel(\n",
        "    model_name=model,\n",
        "    generation_config=generation_config,\n",
        "    safety_settings=safety_settings,\n",
        ")"
      ]
    },
    {
      "cell_type": "markdown",
      "metadata": {
        "id": "nOPCBs2grsIt"
      },
      "source": [
        "A `ChatSession`, should always end with the model's turn.\n",
        "\n",
        "So before creating the `chat` check whos turn was last.\n",
        "\n",
        "If the user was last, attach all but the last content as the `history` and send the last content with `send_message` to get the model's response.\n",
        "\n",
        "If the model was last, put the whole contents list in the history."
      ]
    },
    {
      "cell_type": "code",
      "execution_count": null,
      "metadata": {
        "id": "aIbdDOeFqyiE"
      },
      "outputs": [],
      "source": [
        "model_turn = contents[-1].get(\"role\", None) == \"user\"\n",
        "\n",
        "if model_turn:\n",
        "    chat = gemini.start_chat(history=contents[:-1])\n",
        "\n",
        "    response = chat.send_message(contents[-1])\n",
        "\n",
        "    if generation_config.get(\"candidate_count\", 1) == 1:\n",
        "        display(Markdown(response.text))\n",
        "else:\n",
        "    chat = gemini.start_chat(history=contents)"
      ]
    },
    {
      "cell_type": "code",
      "execution_count": null,
      "metadata": {
        "id": "5gWBb5UtOL5M"
      },
      "outputs": [],
      "source": [
        "if model_turn:\n",
        "    response.candidates"
      ]
    },
    {
      "cell_type": "markdown",
      "metadata": {
        "id": "gdz66HVvsnRc"
      },
      "source": [
        "After that use `send_message` to continue the conversation."
      ]
    },
    {
      "cell_type": "code",
      "execution_count": null,
      "metadata": {
        "id": "nb87HPvBrx29"
      },
      "outputs": [],
      "source": [
        "# response = chat.send_message(\"Interesting, tell me more.\")\n",
        "# display(Markdown(response.text))"
      ]
    }
  ],
  "metadata": {
    "colab": {
      "collapsed_sections": [
        "Tce3stUlHN0L"
      ],
      "name": "aistudio_gemini_prompt_freeform.ipynb",
      "provenance": []
    },
    "kernelspec": {
      "display_name": "Python 3",
      "name": "python3"
    }
  },
  "nbformat": 4,
  "nbformat_minor": 0
}